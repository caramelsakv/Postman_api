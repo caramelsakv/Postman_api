{
  "nbformat": 4,
  "nbformat_minor": 0,
  "metadata": {
    "colab": {
      "provenance": [],
      "authorship_tag": "ABX9TyM5YN2TiyCLEA42/hsF3DFK",
      "include_colab_link": true
    },
    "kernelspec": {
      "name": "python3",
      "display_name": "Python 3"
    },
    "language_info": {
      "name": "python"
    }
  },
  "cells": [
    {
      "cell_type": "markdown",
      "metadata": {
        "id": "view-in-github",
        "colab_type": "text"
      },
      "source": [
        "<a href=\"https://colab.research.google.com/github/caramelsakv/Postman_api/blob/main/EDA.ipynb\" target=\"_parent\"><img src=\"https://colab.research.google.com/assets/colab-badge.svg\" alt=\"Open In Colab\"/></a>"
      ]
    },
    {
      "cell_type": "code",
      "execution_count": null,
      "metadata": {
        "id": "cqpCCT1e6CAb"
      },
      "outputs": [],
      "source": [
        "# Load the dataset\n",
        "import pandas as pd\n",
        "import numpy as np\n",
        "df = pd.read_csv(\"http://localhost:8888/edit/smoking_driking_dataset_Ver01%20(1).csv\")\n",
        "# For missing values\n",
        "df.dropna(inplace=True)\n",
        "# Outlier detect and removal\n",
        "from scipy import stats\n",
        "z_scores = np.abs(stats.zscore(df))\n",
        "df = df[(z_scores < 3).all(axis=1)]\n",
        "# Visualisation\n",
        "import seaborn as sns\n",
        "import matplotlib.pyplot as plt\n",
        "# For relation between variables\n",
        "sns.pairplot(df, diag_kind='kde')\n",
        "plt.show()\n",
        "\n",
        "\n"
      ]
    }
  ]
}