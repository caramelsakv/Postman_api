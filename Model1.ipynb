{
  "nbformat": 4,
  "nbformat_minor": 0,
  "metadata": {
    "colab": {
      "provenance": [],
      "authorship_tag": "ABX9TyMtahtjhMyBFsbQbT4N71Bg",
      "include_colab_link": true
    },
    "kernelspec": {
      "name": "python3",
      "display_name": "Python 3"
    },
    "language_info": {
      "name": "python"
    }
  },
  "cells": [
    {
      "cell_type": "markdown",
      "metadata": {
        "id": "view-in-github",
        "colab_type": "text"
      },
      "source": [
        "<a href=\"https://colab.research.google.com/github/caramelsakv/Postman_api/blob/main/Model1.ipynb\" target=\"_parent\"><img src=\"https://colab.research.google.com/assets/colab-badge.svg\" alt=\"Open In Colab\"/></a>"
      ]
    },
    {
      "cell_type": "code",
      "execution_count": null,
      "metadata": {
        "id": "fsILQAsUb6uW"
      },
      "outputs": [],
      "source": [
        "# This is a Linear Regression Model\n",
        "import numpy as np\n",
        "import pandas as pd\n",
        "from sklearn.model_selection import train_test_split\n",
        "from sklearn.linear_model import LinearRegression\n",
        "from sklearn.metrics import mean_squared_error, r2_score\n",
        "import matplotlib.pyplot as plt\n",
        "df = pd.read_csv(\"http://localhost:8888/edit/smoking_driking_dataset_Ver01%20(1).csv\")\n",
        "# Split dataset into testing and training\n",
        "X = df[['sex', 'age','height','weight','waistline','sight_left','sight_right','hear_left','hear_right','SBP','DBP','BLDS','total_chole','HDL_chole','LDL_chole','triglyceride','haemoglobin','urine_protein','serum_creatinine','SGOT_AST','SGOT_ALT','gamma_GTP','SMK_stat_type_cd']]\n",
        "y = df['DRK_YN']\n",
        "X_train, X_test, y_train, y_test = train_test_split(X, y, test_size=0.25, random_state=50)\n",
        "# Creating and training the model\n",
        "model = LinearRegression()\n",
        "model.fit(X_train, y_train)\n",
        "# Predictions\n",
        "y_pred = model.predict(X_test)\n",
        "# Evaluating this model\n",
        "mse = mean_squared_error(y_test, y_pred)\n",
        "r2 = r2_score(y_test, y_pred)\n",
        "\n",
        "print(f\"Mean Squared Error: {mse:.2f}\")\n",
        "print(f\"R-squared (R2) Score: {r2:.2f}\")\n",
        "# Visualising the regression line\n",
        "plt.scatter(X_test['age'], y_test, color='blue', label='Actual Data')\n",
        "plt.plot(X_test['age'], y_pred, color='red', linewidth=2.0, label='Regression Line')\n",
        "plt.xlabel('age')\n",
        "plt.ylabel('SBP')\n",
        "plt.legend()\n",
        "plt.show()\n",
        "\n"
      ]
    }
  ]
}