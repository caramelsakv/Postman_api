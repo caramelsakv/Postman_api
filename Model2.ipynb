{
  "nbformat": 4,
  "nbformat_minor": 0,
  "metadata": {
    "colab": {
      "provenance": [],
      "authorship_tag": "ABX9TyPFnRwfnxcntts0lWVqCiz3",
      "include_colab_link": true
    },
    "kernelspec": {
      "name": "python3",
      "display_name": "Python 3"
    },
    "language_info": {
      "name": "python"
    }
  },
  "cells": [
    {
      "cell_type": "markdown",
      "metadata": {
        "id": "view-in-github",
        "colab_type": "text"
      },
      "source": [
        "<a href=\"https://colab.research.google.com/github/caramelsakv/Postman_api/blob/main/Model2.ipynb\" target=\"_parent\"><img src=\"https://colab.research.google.com/assets/colab-badge.svg\" alt=\"Open In Colab\"/></a>"
      ]
    },
    {
      "cell_type": "code",
      "execution_count": null,
      "metadata": {
        "id": "kMK425a4NjS8"
      },
      "outputs": [],
      "source": [
        "# This is a Decision Tree model\n",
        "from sklearn.tree import DecisionTreeRegressor\n",
        "from sklearn.metrics import accuracy_score\n",
        "# Split data in testing and training\n",
        " X = df[['sex', 'age','height','weight','waistline','sight_left','sight_right','hear_left','hear_right','SBP','DBP','BLDS','total_chole','HDL_chole','LDL_chole','triglyceride','haemoglobin','urine_protein','serum_creatinine','SGOT_AST','SGOT_ALT','gamma_GTP','SMK_stat_type_cd']]\n",
        " y = df['DRK_YN']\n",
        " X_train, X_test, y_train, y_test = train_test_split(X, y, test_size=0.25)\n",
        "# Train the model\n",
        "model2 = DecisionTreeRegressor(random_state=50)\n",
        "model2.fit(X_train, y_train)\n",
        "# Predictions\n",
        "y_pred = model2.predict(X_test)\n",
        "# Evaluating this model\n",
        "mse = mean_squared_error(y_test, y_pred)\n",
        "r2 = r2_score(y_test, y_pred)\n",
        "# using accuracy\n",
        "accuracy = accuracy_score(y_test, y_pred)\n",
        "\n",
        "print(f\"Model 2 - Decision Tree\")\n",
        "print(f\"Mean Squared Error: {mse}\")\n",
        "print(f\"R-squared: {r2}\")\n",
        "print(f\"Accuracy of Decision Tree model: {accuracy}\")\n",
        "\n"
      ]
    }
  ]
}