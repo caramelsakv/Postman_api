{
  "nbformat": 4,
  "nbformat_minor": 0,
  "metadata": {
    "colab": {
      "provenance": [],
      "authorship_tag": "ABX9TyMAZfFGMeb46vw4ahGwbnhH",
      "include_colab_link": true
    },
    "kernelspec": {
      "name": "python3",
      "display_name": "Python 3"
    },
    "language_info": {
      "name": "python"
    }
  },
  "cells": [
    {
      "cell_type": "markdown",
      "metadata": {
        "id": "view-in-github",
        "colab_type": "text"
      },
      "source": [
        "<a href=\"https://colab.research.google.com/github/caramelsakv/Postman_api/blob/main/Model3.ipynb\" target=\"_parent\"><img src=\"https://colab.research.google.com/assets/colab-badge.svg\" alt=\"Open In Colab\"/></a>"
      ]
    },
    {
      "cell_type": "code",
      "execution_count": null,
      "metadata": {
        "id": "oH29ntDRSXUJ"
      },
      "outputs": [],
      "source": [
        "# This is a Naive Bayes Classifier Model\n",
        "import pandas as pd\n",
        "from sklearn.model_selection import train_test_split\n",
        "from sklearn.naive_bayes import GaussianNB\n",
        "from sklearn.preprocessing import LabelEncoder\n",
        "from sklearn.metrics import accuracy_score, classification_report\n",
        "# Split data into testing and training\n",
        " X = df[['sex', 'age','height','weight','waistline','sight_left','sight_right','hear_left','hear_right','SBP','DBP','BLDS','total_chole','HDL_chole','LDL_chole','triglyceride','haemoglobin','urine_protein','serum_creatinine','SGOT_AST','SGOT_ALT','gamma_GTP','SMK_stat_type_cd']]\n",
        " y = df['DRK_YN']\n",
        " X_train, X_test, y_train, y_test = train_test_split(X, y, test_size=0.25 ,random_state=50)\n",
        "# Train the model\n",
        "nb_classifier = GaussianNB()\n",
        "nb_classifier.fit(X_train, y_train)\n",
        "# Prediction\n",
        "y_pred = nb_classifier.predict(X_test)\n",
        "# Evaluating this model\n",
        "accuracy = accuracy_score(y_test, y_pred)\n",
        "classification_report_str = classification_report(y_test, y_pred)\n",
        "\n",
        "print(f\"Accuracy: {accuracy}\")\n",
        "print(\"Classification Report:\\n\", classification_report_str)\n",
        "\n"
      ]
    }
  ]
}