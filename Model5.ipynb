{
  "nbformat": 4,
  "nbformat_minor": 0,
  "metadata": {
    "colab": {
      "provenance": [],
      "authorship_tag": "ABX9TyM4/K7LcR8j+CZWYAINEz1l",
      "include_colab_link": true
    },
    "kernelspec": {
      "name": "python3",
      "display_name": "Python 3"
    },
    "language_info": {
      "name": "python"
    }
  },
  "cells": [
    {
      "cell_type": "markdown",
      "metadata": {
        "id": "view-in-github",
        "colab_type": "text"
      },
      "source": [
        "<a href=\"https://colab.research.google.com/github/caramelsakv/Postman_api/blob/main/Model5.ipynb\" target=\"_parent\"><img src=\"https://colab.research.google.com/assets/colab-badge.svg\" alt=\"Open In Colab\"/></a>"
      ]
    },
    {
      "cell_type": "code",
      "execution_count": null,
      "metadata": {
        "id": "N4knBL9ps0SZ"
      },
      "outputs": [],
      "source": [
        "# This is a Random Forest model\n",
        "import pandas as pd\n",
        "from sklearn.model_selection import train_test_split\n",
        "from sklearn.ensemble import RandomForestRegressor\n",
        "from sklearn.metrics import mean_squared_error, r2_score\n",
        "# Split dataset into testing and training\n",
        "X = df[['sex', 'age','height','weight','waistline','sight_left','sight_right','hear_left','hear_right','SBP','DBP','BLDS','total_chole','HDL_chole','LDL_chole','triglyceride','haemoglobin','urine_protein','serum_creatinine','SGOT_AST','SGOT_ALT','gamma_GTP','SMK_stat_type_cd']]\n",
        " y = df['DRK_YN']\n",
        " X_train, X_test, y_train, y_test = train_test_split(X, y, test_size=0.25 ,random_state=50)\n",
        "# Training the model\n",
        "rf_regressor = RandomForestRegressor(random_state=50)\n",
        "rf_regressor.fit(X_train, y_train)\n",
        "# Prediction\n",
        "y_pred = rf_regressor.predict(X_test)\n",
        "# Evaluating this model\n",
        "mse = mean_squared_error(y_test, y_pred)\n",
        "r2 = r2_score(y_test, y_pred)\n",
        "\n",
        "print(f\"Mean Squared Error (MSE): {mse}\")\n",
        "print(f\"R-squared (R2): {r2}\")\n"
      ]
    }
  ]
}